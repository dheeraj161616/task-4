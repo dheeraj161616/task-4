{
 "cells": [
  {
   "cell_type": "markdown",
   "id": "bf8b2577",
   "metadata": {},
   "source": [
    "# Task 4 (Pro Level): Solving a Business Problem using Optimization\n",
    "\n",
    "**Internship**: CODTECH Data Science Track\n",
    "\n",
    "---\n",
    "This notebook demonstrates how to solve a business decision problem using linear programming with the `PuLP` library in Python."
   ]
  },
  {
   "cell_type": "markdown",
   "id": "6b311827",
   "metadata": {},
   "source": [
    "## 🧠 Problem Statement: Maximize Profit\n",
    "A company produces two products: **A** and **B**.\n",
    "- Each product requires a fixed amount of **machine time** and **labor hours**.\n",
    "- The company wants to **maximize total profit** without exceeding available resources.\n",
    "\n",
    "### 🔧 Constraints:\n",
    "- Machine Time: 40 hours\n",
    "- Labor Hours: 60 hours\n",
    "\n",
    "### 💰 Profit:\n",
    "- Product A: ₹30/unit\n",
    "- Product B: ₹50/unit"
   ]
  },
  {
   "cell_type": "markdown",
   "id": "75a0226b",
   "metadata": {},
   "source": [
    "## 📦 Step 1: Import Libraries"
   ]
  },
  {
   "cell_type": "code",
   "execution_count": null,
   "id": "a99d104a",
   "metadata": {},
   "outputs": [],
   "source": [
    "from pulp import LpMaximize, LpProblem, LpVariable, lpSum, value"
   ]
  },
  {
   "cell_type": "markdown",
   "id": "f8aac996",
   "metadata": {},
   "source": [
    "## 🔧 Step 2: Define the Linear Programming Problem"
   ]
  },
  {
   "cell_type": "code",
   "execution_count": null,
   "id": "697a1a47",
   "metadata": {},
   "outputs": [],
   "source": [
    "# Define the problem\n",
    "model = LpProblem(name=\"profit-maximization\", sense=LpMaximize)\n",
    "\n",
    "# Define decision variables\n",
    "A = LpVariable(name=\"Product_A\", lowBound=0, cat='Continuous')\n",
    "B = LpVariable(name=\"Product_B\", lowBound=0, cat='Continuous')\n",
    "\n",
    "# Objective function: Maximize profit\n",
    "model += 30 * A + 50 * B, \"Total Profit\"\n",
    "\n",
    "# Constraints\n",
    "model += (2 * A + 4 * B <= 60), \"Labor Constraint\"\n",
    "model += (3 * A + 2 * B <= 40), \"Machine Constraint\"\n",
    "\n",
    "# Solve the problem\n",
    "model.solve()"
   ]
  },
  {
   "cell_type": "markdown",
   "id": "4d50925d",
   "metadata": {},
   "source": [
    "## 📊 Step 3: Results and Insights"
   ]
  },
  {
   "cell_type": "code",
   "execution_count": null,
   "id": "68df53af",
   "metadata": {},
   "outputs": [],
   "source": [
    "print(f\"Status: {model.status}, {model.solver.status}\")\n",
    "print(f\"Optimal units of Product A: {A.value():.2f}\")\n",
    "print(f\"Optimal units of Product B: {B.value():.2f}\")\n",
    "print(f\"Maximum Profit: ₹{model.objective.value():.2f}\")"
   ]
  },
  {
   "cell_type": "markdown",
   "id": "b892e28e",
   "metadata": {},
   "source": [
    "## ✅ Step 4: Conclusion"
   ]
  },
  {
   "cell_type": "markdown",
   "id": "04db73ad",
   "metadata": {},
   "source": [
    "This solution helps the company determine the optimal number of units to produce for each product to **maximize profit** within **resource constraints**. This model can easily be extended for inventory, logistics, or production planning problems."
   ]
  }
 ],
 "metadata": {},
 "nbformat": 4,
 "nbformat_minor": 5
}
